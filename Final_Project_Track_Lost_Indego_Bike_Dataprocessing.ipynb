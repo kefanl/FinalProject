{
 "cells": [
  {
   "cell_type": "code",
   "execution_count": 1,
   "metadata": {},
   "outputs": [],
   "source": [
    "import numpy as np\n",
    "import pandas as pd"
   ]
  },
  {
   "cell_type": "code",
   "execution_count": 5,
   "metadata": {},
   "outputs": [
    {
     "name": "stderr",
     "output_type": "stream",
     "text": [
      "C:\\Users\\Kevin Long\\Anaconda3\\envs\\musa\\lib\\site-packages\\IPython\\core\\interactiveshell.py:3020: DtypeWarning: Columns (10) have mixed types. Specify dtype option on import or set low_memory=False.\n",
      "  interactivity=interactivity, compiler=compiler, result=result)\n"
     ]
    }
   ],
   "source": [
    "# Read from all kinds of dayaset\n",
    "trip15q2 = pd.read_csv('./indegotrip/indego-trips-2015-q2.csv')\n",
    "trip15q3 = pd.read_csv('./indegotrip/indego-trips-2015-q3.csv')\n",
    "trip15q4 = pd.read_csv('./indegotrip/indego-trips-2015-q4.csv')\n",
    "trip16q1 = pd.read_csv('./indegotrip/indego-trips-2016-q1.csv')\n",
    "trip16q2 = pd.read_csv('./indegotrip/indego-trips-2016-q2.csv')\n",
    "trip16q3 = pd.read_csv('./indegotrip/indego-trips-2016-q3.csv')\n",
    "trip16q4 = pd.read_csv('./indegotrip/indego-trips-2016-q4.csv')\n",
    "trip17q1 = pd.read_csv('./indegotrip/indego-trips-2017-q1.csv')\n",
    "trip17q2 = pd.read_csv('./indegotrip/indego-trips-2017-q2.csv')\n",
    "trip17q3 = pd.read_csv('./indegotrip/indego-trips-2017-q3.csv')\n",
    "trip17q4 = pd.read_csv('./indegotrip/indego-trips-2017-q4.csv')\n",
    "trip18q1 = pd.read_csv('./indegotrip/indego-trips-2018-q1.csv')\n",
    "trip18q2 = pd.read_csv('./indegotrip/indego-trips-2018-q2.csv')\n",
    "trip18q3 = pd.read_csv('./indegotrip/indego-trips-2018-q3.csv')\n",
    "trip18q4 = pd.read_csv('./indegotrip/indego-trips-2018-q4.csv')\n",
    "trip19q1 = pd.read_csv('./indegotrip/indego-trips-2019-q1.csv')"
   ]
  },
  {
   "cell_type": "code",
   "execution_count": 53,
   "metadata": {},
   "outputs": [],
   "source": [
    "# change all separate dataset into similar form and get a combined dataset\n",
    "dataset1 = [trip15q2, trip15q3, trip15q4, trip16q1, trip16q2, trip16q3, trip16q4, trip17q1]\n",
    "dataset1 = pd.concat(dataset1)\n",
    "df1 = dataset1.copy()\n",
    "df1['duration']  = df1['duration'] / 60\n",
    "\n",
    "dataset2 = [trip17q2,trip17q3,trip17q4,trip18q1,trip18q2]\n",
    "dataset2 = pd.concat(dataset2)\n",
    "df2 = dataset2.copy()\n",
    "\n",
    "dataset3 = [trip18q3,trip18q4,trip19q1]\n",
    "dataset3 = pd.concat(dataset3)\n",
    "df3 = dataset3.copy()\n",
    "df3 = df3[df3.columns[:-1]]\n",
    "\n",
    "df1.columns, df2.columns = df3.columns, df3.columns\n",
    "df = pd.concat([df1,df2,df3])\n",
    "df.head()\n",
    "\n",
    "# The combined dataset is around 2.4 million trips, which satisfy the requirement of final project "
   ]
  },
  {
   "cell_type": "code",
   "execution_count": 71,
   "metadata": {},
   "outputs": [],
   "source": [
    "# Getting data popup \n",
    "from datetime import datetime, timedelta\n",
    "df['start_time'] = pd.to_datetime(df['start_time'])\n",
    "df['end_time'] = pd.to_datetime(df['end_time'])"
   ]
  },
  {
   "cell_type": "code",
   "execution_count": 75,
   "metadata": {},
   "outputs": [
    {
     "data": {
      "text/html": [
       "<div>\n",
       "<style scoped>\n",
       "    .dataframe tbody tr th:only-of-type {\n",
       "        vertical-align: middle;\n",
       "    }\n",
       "\n",
       "    .dataframe tbody tr th {\n",
       "        vertical-align: top;\n",
       "    }\n",
       "\n",
       "    .dataframe thead th {\n",
       "        text-align: right;\n",
       "    }\n",
       "</style>\n",
       "<table border=\"1\" class=\"dataframe\">\n",
       "  <thead>\n",
       "    <tr style=\"text-align: right;\">\n",
       "      <th></th>\n",
       "      <th>trip_id</th>\n",
       "      <th>duration</th>\n",
       "      <th>start_time</th>\n",
       "      <th>end_time</th>\n",
       "      <th>start_station</th>\n",
       "      <th>start_lat</th>\n",
       "      <th>start_lon</th>\n",
       "      <th>end_station</th>\n",
       "      <th>end_lat</th>\n",
       "      <th>end_lon</th>\n",
       "      <th>bike_id</th>\n",
       "      <th>plan_duration</th>\n",
       "      <th>trip_route_category</th>\n",
       "      <th>passholder_type</th>\n",
       "    </tr>\n",
       "  </thead>\n",
       "  <tbody>\n",
       "    <tr>\n",
       "      <th>0</th>\n",
       "      <td>4001912</td>\n",
       "      <td>1.0</td>\n",
       "      <td>2015-04-23 07:44:00</td>\n",
       "      <td>2015-04-23 07:45:00</td>\n",
       "      <td>3046.0</td>\n",
       "      <td>39.9501</td>\n",
       "      <td>-75.1447</td>\n",
       "      <td>3046</td>\n",
       "      <td>39.9501</td>\n",
       "      <td>-75.1447</td>\n",
       "      <td>3350</td>\n",
       "      <td>30</td>\n",
       "      <td>Round Trip</td>\n",
       "      <td>Indego30</td>\n",
       "    </tr>\n",
       "    <tr>\n",
       "      <th>1</th>\n",
       "      <td>4001916</td>\n",
       "      <td>1.0</td>\n",
       "      <td>2015-04-23 07:45:00</td>\n",
       "      <td>2015-04-23 07:46:00</td>\n",
       "      <td>3046.0</td>\n",
       "      <td>39.9501</td>\n",
       "      <td>-75.1447</td>\n",
       "      <td>3046</td>\n",
       "      <td>39.9501</td>\n",
       "      <td>-75.1447</td>\n",
       "      <td>3350</td>\n",
       "      <td>30</td>\n",
       "      <td>Round Trip</td>\n",
       "      <td>Indego30</td>\n",
       "    </tr>\n",
       "    <tr>\n",
       "      <th>2</th>\n",
       "      <td>4001918</td>\n",
       "      <td>2.0</td>\n",
       "      <td>2015-04-23 07:46:00</td>\n",
       "      <td>2015-04-23 07:48:00</td>\n",
       "      <td>3057.0</td>\n",
       "      <td>39.9644</td>\n",
       "      <td>-75.18</td>\n",
       "      <td>3057</td>\n",
       "      <td>39.9644</td>\n",
       "      <td>-75.18</td>\n",
       "      <td>3282</td>\n",
       "      <td>0</td>\n",
       "      <td>Round Trip</td>\n",
       "      <td>Walk-up</td>\n",
       "    </tr>\n",
       "    <tr>\n",
       "      <th>3</th>\n",
       "      <td>4001938</td>\n",
       "      <td>1.0</td>\n",
       "      <td>2015-04-23 10:13:00</td>\n",
       "      <td>2015-04-23 10:14:00</td>\n",
       "      <td>3004.0</td>\n",
       "      <td>39.9538</td>\n",
       "      <td>-75.1637</td>\n",
       "      <td>3004</td>\n",
       "      <td>39.9538</td>\n",
       "      <td>-75.1637</td>\n",
       "      <td>3350</td>\n",
       "      <td>30</td>\n",
       "      <td>Round Trip</td>\n",
       "      <td>Indego30</td>\n",
       "    </tr>\n",
       "    <tr>\n",
       "      <th>4</th>\n",
       "      <td>4001955</td>\n",
       "      <td>3.0</td>\n",
       "      <td>2015-04-23 10:14:00</td>\n",
       "      <td>2015-04-23 10:17:00</td>\n",
       "      <td>3004.0</td>\n",
       "      <td>39.9538</td>\n",
       "      <td>-75.1637</td>\n",
       "      <td>3004</td>\n",
       "      <td>39.9538</td>\n",
       "      <td>-75.1637</td>\n",
       "      <td>2716</td>\n",
       "      <td>30</td>\n",
       "      <td>Round Trip</td>\n",
       "      <td>Indego30</td>\n",
       "    </tr>\n",
       "  </tbody>\n",
       "</table>\n",
       "</div>"
      ],
      "text/plain": [
       "   trip_id  duration          start_time            end_time  start_station  \\\n",
       "0  4001912       1.0 2015-04-23 07:44:00 2015-04-23 07:45:00         3046.0   \n",
       "1  4001916       1.0 2015-04-23 07:45:00 2015-04-23 07:46:00         3046.0   \n",
       "2  4001918       2.0 2015-04-23 07:46:00 2015-04-23 07:48:00         3057.0   \n",
       "3  4001938       1.0 2015-04-23 10:13:00 2015-04-23 10:14:00         3004.0   \n",
       "4  4001955       3.0 2015-04-23 10:14:00 2015-04-23 10:17:00         3004.0   \n",
       "\n",
       "  start_lat start_lon  end_station  end_lat  end_lon bike_id  plan_duration  \\\n",
       "0   39.9501  -75.1447         3046  39.9501 -75.1447    3350             30   \n",
       "1   39.9501  -75.1447         3046  39.9501 -75.1447    3350             30   \n",
       "2   39.9644    -75.18         3057  39.9644   -75.18    3282              0   \n",
       "3   39.9538  -75.1637         3004  39.9538 -75.1637    3350             30   \n",
       "4   39.9538  -75.1637         3004  39.9538 -75.1637    2716             30   \n",
       "\n",
       "  trip_route_category passholder_type  \n",
       "0          Round Trip        Indego30  \n",
       "1          Round Trip        Indego30  \n",
       "2          Round Trip         Walk-up  \n",
       "3          Round Trip        Indego30  \n",
       "4          Round Trip        Indego30  "
      ]
     },
     "execution_count": 75,
     "metadata": {},
     "output_type": "execute_result"
    }
   ],
   "source": [
    "df.head()"
   ]
  },
  {
   "cell_type": "code",
   "execution_count": 81,
   "metadata": {},
   "outputs": [],
   "source": [
    "df_lost = df[pd.isnull(df['end_lat'])]"
   ]
  },
  {
   "cell_type": "code",
   "execution_count": 165,
   "metadata": {},
   "outputs": [],
   "source": [
    "def datelist(beginDate, endDate):\n",
    "    date_list = [datetime.strftime(x, '%Y-%m-%d %H') for x in list(pd.date_range(start= beginDate, end = endDate, freq = '1H'))]\n",
    "    return date_list"
   ]
  },
  {
   "cell_type": "code",
   "execution_count": 205,
   "metadata": {},
   "outputs": [],
   "source": [
    "def get_lost(df, datelist):\n",
    "    combine = {}\n",
    "    lost_trip = {}\n",
    "    lost_trip_location = {}\n",
    "    lost_time = {}\n",
    "    \n",
    "    lost_bike = []\n",
    "    lost_bike_combine = {}\n",
    "    \n",
    "    \n",
    "    missing_bike = {}\n",
    "    missing_bike_combine = {}\n",
    "    \n",
    "    missing_combine = {}\n",
    "    for stamp in datelist:\n",
    "        missing_trip = {}\n",
    "        \n",
    "        # update lost hourse for everybikes in missing list\n",
    "        if len(lost_time) != 0:\n",
    "            lost_time = {key_: val_+ 1 for key_, val_ in lost_time.items()}\n",
    "        \n",
    "        # Iterate only trips within this time span\n",
    "        df_trip = df[(df['start_time'] >= datetime.strptime(stamp,'%Y-%m-%d %H')) & (df['start_time'] < (datetime.strptime(stamp,'%Y-%m-%d %H') + timedelta(hours=1)))]\n",
    "        \n",
    "        \n",
    "        \n",
    "        for index, single_trip in df_trip.iterrows():\n",
    "            if pd.isnull(single_trip['end_lat']):\n",
    "                lost_time[single_trip['bike_id']] = lost_time.get(single_trip['bike_id'], 0) + 1\n",
    "                missing_trip.update({single_trip['bike_id']:{'lng':single_trip['start_lon'], 'lat':single_trip['start_lat']}})\n",
    "                lost_trip.update({single_trip['bike_id']: single_trip['trip_id']})\n",
    "                lost_trip_location.update({single_trip['bike_id']: {'lng':single_trip['start_lon'], 'lat':single_trip['start_lat']}})\n",
    "                \n",
    "            # If any missing bikes re-appears in another trip, and this new trip does have ended somewhere, \n",
    "            if (lost_time.get(single_trip['bike_id']) != None) & (single_trip['trip_id'] != lost_trip.get(single_trip['bike_id'])) & pd.notnull(single_trip['end_lat']):\n",
    "                lost_time.pop(single_trip['bike_id'])\n",
    "                lost_trip.pop(single_trip['bike_id'])\n",
    "                lost_trip_location.pop(single_trip['bike_id'])\n",
    "                \n",
    "        # Getting all lost bike (last trip lacks end coordinate and haven't been re-appear in over 7 days)\n",
    "        if len(lost_time) != 0:\n",
    "            for key, val in lost_time.items():\n",
    "                if val >= 168:\n",
    "                    lost_bike.append(key)\n",
    "                    missing_bike.update({key:lost_trip_location.get(key)})\n",
    "                                       \n",
    "        # Generate data for plotting based on timestamp\n",
    "        lost_bike_combine.update({stamp:list(set(lost_bike))})  # Lost bike and their lost hour\n",
    "        missing_bike_combine.update({stamp: missing_bike.copy()}) # \n",
    "        missing_combine.update({stamp:missing_trip.copy()})\n",
    "        combine.update({stamp:lost_time.copy()})\n",
    "        \n",
    "    return combine, missing_combine,lost_bike_combine, missing_bike_combine          "
   ]
  },
  {
   "cell_type": "code",
   "execution_count": 212,
   "metadata": {},
   "outputs": [],
   "source": [
    "# Running the function from 2016 to 2018 (which should be 365*3*24 rows of data used for visualization)\n",
    "a,b,c,d = get_lost(df, datelist('2016-01-01', '2019-01-01'))  "
   ]
  },
  {
   "cell_type": "code",
   "execution_count": null,
   "metadata": {},
   "outputs": [],
   "source": [
    "# Generating four dataset, all of which controlled by timestamp\n",
    "time_tracking = pd.DataFrame(a)\n",
    "time_tracking.to_csv('vis2_lost_time.csv')\n",
    "missing_trips = pd.DataFrame(b)\n",
    "missing_trips.to_csv('vis1_missing_popup.csv')"
   ]
  },
  {
   "cell_type": "code",
   "execution_count": 216,
   "metadata": {},
   "outputs": [],
   "source": [
    "lost_locations = pd.DataFrame(d)\n",
    "lost_locations.to_csv('vis4_lost_location.csv')"
   ]
  },
  {
   "cell_type": "code",
   "execution_count": 251,
   "metadata": {},
   "outputs": [],
   "source": [
    "lost_bike_num = {}\n",
    "lost_bike = {}\n",
    "for key,val in c.items():\n",
    "    lost_bike_num.update({key:[len(val)]})\n",
    "    lost = {0:1}\n",
    "    for i in val:\n",
    "        lost.update({i:1})\n",
    "    lost_bike.update({key:lost})"
   ]
  },
  {
   "cell_type": "code",
   "execution_count": 243,
   "metadata": {},
   "outputs": [],
   "source": [
    "lost_bike_num = pd.DataFrame(lost_bike_num)\n",
    "lost_bike_num.to_csv('vis3_stats.csv')"
   ]
  },
  {
   "cell_type": "code",
   "execution_count": 255,
   "metadata": {},
   "outputs": [],
   "source": [
    "import json\n",
    "with open('vis3_lost_bike.json', 'w') as fp:\n",
    "    json.dump(lost_bike, fp)"
   ]
  }
 ],
 "metadata": {
  "kernelspec": {
   "display_name": "Python 3",
   "language": "python",
   "name": "python3"
  },
  "language_info": {
   "codemirror_mode": {
    "name": "ipython",
    "version": 3
   },
   "file_extension": ".py",
   "mimetype": "text/x-python",
   "name": "python",
   "nbconvert_exporter": "python",
   "pygments_lexer": "ipython3",
   "version": "3.6.7"
  }
 },
 "nbformat": 4,
 "nbformat_minor": 2
}
